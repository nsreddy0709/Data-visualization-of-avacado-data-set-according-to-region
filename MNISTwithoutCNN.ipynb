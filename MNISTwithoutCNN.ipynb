{
  "nbformat": 4,
  "nbformat_minor": 0,
  "metadata": {
    "colab": {
      "name": "MNISTwithoutCNN.ipynb",
      "provenance": [],
      "mount_file_id": "1KyKbQo2i25wSamGKW17DA69xCgsaaYJD",
      "authorship_tag": "ABX9TyP9cBSui0zwkoJeFHb3NoSZ",
      "include_colab_link": true
    },
    "kernelspec": {
      "name": "python3",
      "display_name": "Python 3"
    },
    "accelerator": "TPU"
  },
  "cells": [
    {
      "cell_type": "markdown",
      "metadata": {
        "id": "view-in-github",
        "colab_type": "text"
      },
      "source": [
        "<a href=\"https://colab.research.google.com/github/nsreddy0709/HeartRatePrediction/blob/master/MNISTwithoutCNN.ipynb\" target=\"_parent\"><img src=\"https://colab.research.google.com/assets/colab-badge.svg\" alt=\"Open In Colab\"/></a>"
      ]
    },
    {
      "cell_type": "code",
      "metadata": {
        "id": "yz5lue63PXBn"
      },
      "source": [
        "import numpy as np\n",
        "import pandas as pd\n",
        "import matplotlib.pyplot as plt\n",
        "from sklearn.datasets import fetch_openml"
      ],
      "execution_count": 28,
      "outputs": []
    },
    {
      "cell_type": "code",
      "metadata": {
        "id": "j-S1LQlJSVLF"
      },
      "source": [
        "X,y = fetch_openml('mnist_784',version=1,return_X_y=True)"
      ],
      "execution_count": 29,
      "outputs": []
    },
    {
      "cell_type": "code",
      "metadata": {
        "id": "MbwQprTzSkoX",
        "outputId": "9979e496-e0b3-42df-b71c-e8cedd977458",
        "colab": {
          "base_uri": "https://localhost:8080/",
          "height": 34
        }
      },
      "source": [
        "print(\"Dataset size : \",X.shape,y.shape)"
      ],
      "execution_count": 31,
      "outputs": [
        {
          "output_type": "stream",
          "text": [
            "Dataset size :  (70000, 784) (70000,)\n"
          ],
          "name": "stdout"
        }
      ]
    },
    {
      "cell_type": "code",
      "metadata": {
        "id": "UTkaaG3yS4YR",
        "outputId": "0f1b074c-d9d4-4757-bfa8-6f19eb2fba64",
        "colab": {
          "base_uri": "https://localhost:8080/",
          "height": 34
        }
      },
      "source": [
        "y.shape"
      ],
      "execution_count": 32,
      "outputs": [
        {
          "output_type": "execute_result",
          "data": {
            "text/plain": [
              "(70000,)"
            ]
          },
          "metadata": {
            "tags": []
          },
          "execution_count": 32
        }
      ]
    },
    {
      "cell_type": "code",
      "metadata": {
        "id": "qD5K-hOjUo47"
      },
      "source": [
        "from sklearn.preprocessing import PolynomialFeatures\n",
        "from sklearn.linear_model import LinearRegression\n",
        "x = X[:10]\n",
        "y = y[:10]\n",
        "poly = PolynomialFeatures().fit_transform(x)"
      ],
      "execution_count": 33,
      "outputs": []
    },
    {
      "cell_type": "code",
      "metadata": {
        "id": "-Yz8T1tmYtYL"
      },
      "source": [
        "reg = LinearRegression().fit(poly,y)"
      ],
      "execution_count": 34,
      "outputs": []
    },
    {
      "cell_type": "code",
      "metadata": {
        "id": "7fZeDl9YY0LV",
        "outputId": "caa3bd78-cabe-4cb1-945f-366e64d3de14",
        "colab": {
          "base_uri": "https://localhost:8080/",
          "height": 34
        }
      },
      "source": [
        "poly1 = PolynomialFeatures().fit_transform(x[9].reshape(1,-1))\n",
        "reg.predict(poly1)"
      ],
      "execution_count": 40,
      "outputs": [
        {
          "output_type": "execute_result",
          "data": {
            "text/plain": [
              "array([4.])"
            ]
          },
          "metadata": {
            "tags": []
          },
          "execution_count": 40
        }
      ]
    },
    {
      "cell_type": "code",
      "metadata": {
        "id": "Q_3tCNw3Y563",
        "outputId": "f2e14b77-e35d-4c07-c59d-13985a6cacae",
        "colab": {
          "base_uri": "https://localhost:8080/",
          "height": 282
        }
      },
      "source": [
        "plt.imshow(x[9].reshape(28,28))"
      ],
      "execution_count": 41,
      "outputs": [
        {
          "output_type": "execute_result",
          "data": {
            "text/plain": [
              "<matplotlib.image.AxesImage at 0x7fe637bcc6d8>"
            ]
          },
          "metadata": {
            "tags": []
          },
          "execution_count": 41
        },
        {
          "output_type": "display_data",
          "data": {
            "image/png": "[encoded data removed]",
            "text/plain": [
              "<Figure size 432x288 with 1 Axes>"
            ]
          },
          "metadata": {
            "tags": [],
            "needs_background": "light"
          }
        }
      ]
    },
    {
      "cell_type": "code",
      "metadata": {
        "id": "TNyfyhwuZLlh",
        "outputId": "f7686a26-2e35-4a1d-e7e1-f9a763035e79",
        "colab": {
          "base_uri": "https://localhost:8080/",
          "height": 185
        }
      },
      "source": [
        "for i in range(len(x)):\n",
        "    poly2 = PolynomialFeatures().fit_transform(x[i].reshape(1,-1))\n",
        "    pred = reg.predict(poly2)\n",
        "    print(\"The actual image is {} and the predicted value is {}\".format(y[i],np.round(pred)))"
      ],
      "execution_count": 43,
      "outputs": [
        {
          "output_type": "stream",
          "text": [
            "The actual image is 5 and the predicted value is [5.]\n",
            "The actual image is 0 and the predicted value is [-0.]\n",
            "The actual image is 4 and the predicted value is [4.]\n",
            "The actual image is 1 and the predicted value is [1.]\n",
            "The actual image is 9 and the predicted value is [9.]\n",
            "The actual image is 2 and the predicted value is [2.]\n",
            "The actual image is 1 and the predicted value is [1.]\n",
            "The actual image is 3 and the predicted value is [3.]\n",
            "The actual image is 1 and the predicted value is [1.]\n",
            "The actual image is 4 and the predicted value is [4.]\n"
          ],
          "name": "stdout"
        }
      ]
    },
    {
      "cell_type": "code",
      "metadata": {
        "id": "iIad9PvAZ2MR",
        "outputId": "ee9202ba-293e-4f1f-fecd-0d80be30259b",
        "colab": {
          "base_uri": "https://localhost:8080/",
          "height": 282
        }
      },
      "source": [
        "import cv2\n",
        "img = cv2.imread(\"/content/drive/My Drive/4.png\")\n",
        "img = cv2.resize(img,(28,28))\n",
        "img = cv2.cvtColor(img,cv2.COLOR_BGR2GRAY)\n",
        "plt.imshow(img,cmap=\"gray\")"
      ],
      "execution_count": 44,
      "outputs": [
        {
          "output_type": "execute_result",
          "data": {
            "text/plain": [
              "<matplotlib.image.AxesImage at 0x7fe637c68048>"
            ]
          },
          "metadata": {
            "tags": []
          },
          "execution_count": 44
        },
        {
          "output_type": "display_data",
          "data": {
            "image/png": "[encoded data removed]",
            "text/plain": [
              "<Figure size 432x288 with 1 Axes>"
            ]
          },
          "metadata": {
            "tags": [],
            "needs_background": "light"
          }
        }
      ]
    },
    {
      "cell_type": "code",
      "metadata": {
        "id": "j98FscpgcUtn",
        "outputId": "a3b52ae9-5bb0-4770-e92c-0f5963e88476",
        "colab": {
          "base_uri": "https://localhost:8080/",
          "height": 34
        }
      },
      "source": [
        "img.shape"
      ],
      "execution_count": 45,
      "outputs": [
        {
          "output_type": "execute_result",
          "data": {
            "text/plain": [
              "(28, 28)"
            ]
          },
          "metadata": {
            "tags": []
          },
          "execution_count": 45
        }
      ]
    },
    {
      "cell_type": "code",
      "metadata": {
        "id": "ne3he0yuczWD",
        "outputId": "c0997dc8-3a24-4441-beea-95b47bc15724",
        "colab": {
          "base_uri": "https://localhost:8080/",
          "height": 34
        }
      },
      "source": [
        "poly3 = PolynomialFeatures().fit_transform(img.reshape(1,-1))\n",
        "reg.predict(poly3)"
      ],
      "execution_count": 47,
      "outputs": [
        {
          "output_type": "execute_result",
          "data": {
            "text/plain": [
              "array([6.52019138])"
            ]
          },
          "metadata": {
            "tags": []
          },
          "execution_count": 47
        }
      ]
    },
    {
      "cell_type": "code",
      "metadata": {
        "id": "PFjDApfuc8ji"
      },
      "source": [
        ""
      ],
      "execution_count": null,
      "outputs": []
    },
    {
      "cell_type": "code",
      "metadata": {
        "id": "cgRqRJevlxfR"
      },
      "source": [
        ""
      ],
      "execution_count": null,
      "outputs": []
    }
  ]
}